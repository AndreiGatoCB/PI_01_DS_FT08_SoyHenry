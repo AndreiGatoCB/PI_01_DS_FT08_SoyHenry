{
 "cells": [
  {
   "attachments": {},
   "cell_type": "markdown",
   "metadata": {},
   "source": [
    "- Se instalan pandas, fastapi y uvicorn para la ejecución de los dataframes."
   ]
  },
  {
   "cell_type": "code",
   "execution_count": null,
   "metadata": {},
   "outputs": [],
   "source": [
    "%pip install pandas\n",
    "%pip install fastapi\n",
    "%pip install uvicorn"
   ]
  },
  {
   "attachments": {},
   "cell_type": "markdown",
   "metadata": {},
   "source": [
    "- Se importa pandas para poder trabajar con este módulo en el código."
   ]
  },
  {
   "attachments": {},
   "cell_type": "markdown",
   "metadata": {},
   "source": [
    "\n",
    "- Se importa glob para poder listar las rutas de los archivos que serán utilizados."
   ]
  },
  {
   "cell_type": "code",
   "execution_count": 1,
   "metadata": {},
   "outputs": [],
   "source": [
    "import pandas as pd\n",
    "import glob"
   ]
  },
  {
   "attachments": {},
   "cell_type": "markdown",
   "metadata": {},
   "source": [
    "- Se define la ruta de los archivos '.csv' en la PC como una variable de tipo STR.\n"
   ]
  },
  {
   "attachments": {},
   "cell_type": "markdown",
   "metadata": {},
   "source": [
    "- Utilizando el módulo 'glob' se hace un listado de la ruta de cada archivo en la carpeta 'MLOpsReviews' que termine en '.csv'\n"
   ]
  },
  {
   "attachments": {},
   "cell_type": "markdown",
   "metadata": {},
   "source": [
    "- Se definen tres (3) listas vacías para por medio de un for loop eliminar las partes de la ruta que no son el nombre de la plataforma.\n"
   ]
  },
  {
   "attachments": {},
   "cell_type": "markdown",
   "metadata": {},
   "source": [
    "- Finalmente se convierten los guiones bajos '_' por espacios para utilizarlos al crear la columna de cada plataforma."
   ]
  },
  {
   "cell_type": "code",
   "execution_count": 2,
   "metadata": {},
   "outputs": [
    {
     "data": {
      "text/plain": [
       "['amazon prime', 'disney plus', 'hulu', 'netflix']"
      ]
     },
     "execution_count": 2,
     "metadata": {},
     "output_type": "execute_result"
    }
   ],
   "source": [
    "csv_files = 'Platforms\\\\*.csv'\n",
    "\n",
    "files_names = glob.glob(csv_files)\n",
    "\n",
    "x_ = []\n",
    "t_ = []\n",
    "xt = []\n",
    "titles = []\n",
    "\n",
    "for x in range(len(files_names)):\n",
    "    x_.append(files_names[x].replace('C:\\\\Users\\\\USER\\\\Documents\\\\Python\\\\SoyHenry\\\\MLOpsReviews\\\\Platforms\\\\', ''))\n",
    "    t_.append(x_[x].replace('_titles.csv', ''))\n",
    "    xt.append(t_[x].replace('Platforms\\\\', ''))\n",
    "    titles.append(xt[x].replace('_', ' '))\n",
    "titles"
   ]
  },
  {
   "attachments": {},
   "cell_type": "markdown",
   "metadata": {},
   "source": [
    "- Se define la variable de cada dataframe utilizando la variable 'files_names' en la función 'read_csv' de pandas."
   ]
  },
  {
   "cell_type": "code",
   "execution_count": 3,
   "metadata": {},
   "outputs": [],
   "source": [
    "df_amazon = pd.read_csv(files_names[0])\n",
    "df_disney = pd.read_csv(files_names[1])\n",
    "df_hulu = pd.read_csv(files_names[2])\n",
    "df_netflix = pd.read_csv(files_names[3])"
   ]
  },
  {
   "attachments": {},
   "cell_type": "markdown",
   "metadata": {},
   "source": [
    "- Se verifican los dataframes definidos anteriormente."
   ]
  },
  {
   "cell_type": "code",
   "execution_count": 4,
   "metadata": {},
   "outputs": [
    {
     "data": {
      "text/html": [
       "<div>\n",
       "<style scoped>\n",
       "    .dataframe tbody tr th:only-of-type {\n",
       "        vertical-align: middle;\n",
       "    }\n",
       "\n",
       "    .dataframe tbody tr th {\n",
       "        vertical-align: top;\n",
       "    }\n",
       "\n",
       "    .dataframe thead th {\n",
       "        text-align: right;\n",
       "    }\n",
       "</style>\n",
       "<table border=\"1\" class=\"dataframe\">\n",
       "  <thead>\n",
       "    <tr style=\"text-align: right;\">\n",
       "      <th></th>\n",
       "      <th>show_id</th>\n",
       "      <th>type</th>\n",
       "      <th>title</th>\n",
       "      <th>director</th>\n",
       "      <th>cast</th>\n",
       "      <th>country</th>\n",
       "      <th>date_added</th>\n",
       "      <th>release_year</th>\n",
       "      <th>rating</th>\n",
       "      <th>duration</th>\n",
       "      <th>listed_in</th>\n",
       "      <th>description</th>\n",
       "    </tr>\n",
       "  </thead>\n",
       "  <tbody>\n",
       "    <tr>\n",
       "      <th>0</th>\n",
       "      <td>s1</td>\n",
       "      <td>Movie</td>\n",
       "      <td>Duck the Halls: A Mickey Mouse Christmas Special</td>\n",
       "      <td>Alonso Ramirez Ramos, Dave Wasson</td>\n",
       "      <td>Chris Diamantopoulos, Tony Anselmo, Tress MacN...</td>\n",
       "      <td>NaN</td>\n",
       "      <td>November 26, 2021</td>\n",
       "      <td>2016</td>\n",
       "      <td>TV-G</td>\n",
       "      <td>23 min</td>\n",
       "      <td>Animation, Family</td>\n",
       "      <td>Join Mickey and the gang as they duck the halls!</td>\n",
       "    </tr>\n",
       "    <tr>\n",
       "      <th>1</th>\n",
       "      <td>s2</td>\n",
       "      <td>Movie</td>\n",
       "      <td>Ernest Saves Christmas</td>\n",
       "      <td>John Cherry</td>\n",
       "      <td>Jim Varney, Noelle Parker, Douglas Seale</td>\n",
       "      <td>NaN</td>\n",
       "      <td>November 26, 2021</td>\n",
       "      <td>1988</td>\n",
       "      <td>PG</td>\n",
       "      <td>91 min</td>\n",
       "      <td>Comedy</td>\n",
       "      <td>Santa Claus passes his magic bag to a new St. ...</td>\n",
       "    </tr>\n",
       "  </tbody>\n",
       "</table>\n",
       "</div>"
      ],
      "text/plain": [
       "  show_id   type                                             title  \\\n",
       "0      s1  Movie  Duck the Halls: A Mickey Mouse Christmas Special   \n",
       "1      s2  Movie                            Ernest Saves Christmas   \n",
       "\n",
       "                            director  \\\n",
       "0  Alonso Ramirez Ramos, Dave Wasson   \n",
       "1                        John Cherry   \n",
       "\n",
       "                                                cast country  \\\n",
       "0  Chris Diamantopoulos, Tony Anselmo, Tress MacN...     NaN   \n",
       "1           Jim Varney, Noelle Parker, Douglas Seale     NaN   \n",
       "\n",
       "          date_added  release_year rating duration          listed_in  \\\n",
       "0  November 26, 2021          2016   TV-G   23 min  Animation, Family   \n",
       "1  November 26, 2021          1988     PG   91 min             Comedy   \n",
       "\n",
       "                                         description  \n",
       "0   Join Mickey and the gang as they duck the halls!  \n",
       "1  Santa Claus passes his magic bag to a new St. ...  "
      ]
     },
     "execution_count": 4,
     "metadata": {},
     "output_type": "execute_result"
    }
   ],
   "source": [
    "df_disney.head(2)\n"
   ]
  },
  {
   "cell_type": "code",
   "execution_count": 5,
   "metadata": {},
   "outputs": [
    {
     "data": {
      "text/html": [
       "<div>\n",
       "<style scoped>\n",
       "    .dataframe tbody tr th:only-of-type {\n",
       "        vertical-align: middle;\n",
       "    }\n",
       "\n",
       "    .dataframe tbody tr th {\n",
       "        vertical-align: top;\n",
       "    }\n",
       "\n",
       "    .dataframe thead th {\n",
       "        text-align: right;\n",
       "    }\n",
       "</style>\n",
       "<table border=\"1\" class=\"dataframe\">\n",
       "  <thead>\n",
       "    <tr style=\"text-align: right;\">\n",
       "      <th></th>\n",
       "      <th>show_id</th>\n",
       "      <th>type</th>\n",
       "      <th>title</th>\n",
       "      <th>director</th>\n",
       "      <th>cast</th>\n",
       "      <th>country</th>\n",
       "      <th>date_added</th>\n",
       "      <th>release_year</th>\n",
       "      <th>rating</th>\n",
       "      <th>duration</th>\n",
       "      <th>listed_in</th>\n",
       "      <th>description</th>\n",
       "    </tr>\n",
       "  </thead>\n",
       "  <tbody>\n",
       "    <tr>\n",
       "      <th>0</th>\n",
       "      <td>s1</td>\n",
       "      <td>Movie</td>\n",
       "      <td>Ricky Velez: Here's Everything</td>\n",
       "      <td>NaN</td>\n",
       "      <td>NaN</td>\n",
       "      <td>NaN</td>\n",
       "      <td>October 24, 2021</td>\n",
       "      <td>2021</td>\n",
       "      <td>TV-MA</td>\n",
       "      <td>NaN</td>\n",
       "      <td>Comedy, Stand Up</td>\n",
       "      <td>​Comedian Ricky Velez bares it all with his ho...</td>\n",
       "    </tr>\n",
       "    <tr>\n",
       "      <th>1</th>\n",
       "      <td>s2</td>\n",
       "      <td>Movie</td>\n",
       "      <td>Silent Night</td>\n",
       "      <td>NaN</td>\n",
       "      <td>NaN</td>\n",
       "      <td>NaN</td>\n",
       "      <td>October 23, 2021</td>\n",
       "      <td>2020</td>\n",
       "      <td>NaN</td>\n",
       "      <td>94 min</td>\n",
       "      <td>Crime, Drama, Thriller</td>\n",
       "      <td>Mark, a low end South London hitman recently r...</td>\n",
       "    </tr>\n",
       "  </tbody>\n",
       "</table>\n",
       "</div>"
      ],
      "text/plain": [
       "  show_id   type                           title director  cast country  \\\n",
       "0      s1  Movie  Ricky Velez: Here's Everything      NaN   NaN     NaN   \n",
       "1      s2  Movie                    Silent Night      NaN   NaN     NaN   \n",
       "\n",
       "         date_added  release_year rating duration               listed_in  \\\n",
       "0  October 24, 2021          2021  TV-MA      NaN        Comedy, Stand Up   \n",
       "1  October 23, 2021          2020    NaN   94 min  Crime, Drama, Thriller   \n",
       "\n",
       "                                         description  \n",
       "0  ​Comedian Ricky Velez bares it all with his ho...  \n",
       "1  Mark, a low end South London hitman recently r...  "
      ]
     },
     "execution_count": 5,
     "metadata": {},
     "output_type": "execute_result"
    }
   ],
   "source": [
    "df_hulu.head(2)"
   ]
  },
  {
   "cell_type": "code",
   "execution_count": 6,
   "metadata": {},
   "outputs": [
    {
     "data": {
      "text/html": [
       "<div>\n",
       "<style scoped>\n",
       "    .dataframe tbody tr th:only-of-type {\n",
       "        vertical-align: middle;\n",
       "    }\n",
       "\n",
       "    .dataframe tbody tr th {\n",
       "        vertical-align: top;\n",
       "    }\n",
       "\n",
       "    .dataframe thead th {\n",
       "        text-align: right;\n",
       "    }\n",
       "</style>\n",
       "<table border=\"1\" class=\"dataframe\">\n",
       "  <thead>\n",
       "    <tr style=\"text-align: right;\">\n",
       "      <th></th>\n",
       "      <th>show_id</th>\n",
       "      <th>type</th>\n",
       "      <th>title</th>\n",
       "      <th>director</th>\n",
       "      <th>cast</th>\n",
       "      <th>country</th>\n",
       "      <th>date_added</th>\n",
       "      <th>release_year</th>\n",
       "      <th>rating</th>\n",
       "      <th>duration</th>\n",
       "      <th>listed_in</th>\n",
       "      <th>description</th>\n",
       "    </tr>\n",
       "  </thead>\n",
       "  <tbody>\n",
       "    <tr>\n",
       "      <th>0</th>\n",
       "      <td>s1</td>\n",
       "      <td>Movie</td>\n",
       "      <td>The Grand Seduction</td>\n",
       "      <td>Don McKellar</td>\n",
       "      <td>Brendan Gleeson, Taylor Kitsch, Gordon Pinsent</td>\n",
       "      <td>Canada</td>\n",
       "      <td>March 30, 2021</td>\n",
       "      <td>2014</td>\n",
       "      <td>NaN</td>\n",
       "      <td>113 min</td>\n",
       "      <td>Comedy, Drama</td>\n",
       "      <td>A small fishing village must procure a local d...</td>\n",
       "    </tr>\n",
       "    <tr>\n",
       "      <th>1</th>\n",
       "      <td>s2</td>\n",
       "      <td>Movie</td>\n",
       "      <td>Take Care Good Night</td>\n",
       "      <td>Girish Joshi</td>\n",
       "      <td>Mahesh Manjrekar, Abhay Mahajan, Sachin Khedekar</td>\n",
       "      <td>India</td>\n",
       "      <td>March 30, 2021</td>\n",
       "      <td>2018</td>\n",
       "      <td>13+</td>\n",
       "      <td>110 min</td>\n",
       "      <td>Drama, International</td>\n",
       "      <td>A Metro Family decides to fight a Cyber Crimin...</td>\n",
       "    </tr>\n",
       "  </tbody>\n",
       "</table>\n",
       "</div>"
      ],
      "text/plain": [
       "  show_id   type                 title      director  \\\n",
       "0      s1  Movie   The Grand Seduction  Don McKellar   \n",
       "1      s2  Movie  Take Care Good Night  Girish Joshi   \n",
       "\n",
       "                                               cast country      date_added  \\\n",
       "0    Brendan Gleeson, Taylor Kitsch, Gordon Pinsent  Canada  March 30, 2021   \n",
       "1  Mahesh Manjrekar, Abhay Mahajan, Sachin Khedekar   India  March 30, 2021   \n",
       "\n",
       "   release_year rating duration             listed_in  \\\n",
       "0          2014    NaN  113 min         Comedy, Drama   \n",
       "1          2018    13+  110 min  Drama, International   \n",
       "\n",
       "                                         description  \n",
       "0  A small fishing village must procure a local d...  \n",
       "1  A Metro Family decides to fight a Cyber Crimin...  "
      ]
     },
     "execution_count": 6,
     "metadata": {},
     "output_type": "execute_result"
    }
   ],
   "source": [
    "df_amazon.head(2)"
   ]
  },
  {
   "cell_type": "code",
   "execution_count": 7,
   "metadata": {},
   "outputs": [
    {
     "data": {
      "text/html": [
       "<div>\n",
       "<style scoped>\n",
       "    .dataframe tbody tr th:only-of-type {\n",
       "        vertical-align: middle;\n",
       "    }\n",
       "\n",
       "    .dataframe tbody tr th {\n",
       "        vertical-align: top;\n",
       "    }\n",
       "\n",
       "    .dataframe thead th {\n",
       "        text-align: right;\n",
       "    }\n",
       "</style>\n",
       "<table border=\"1\" class=\"dataframe\">\n",
       "  <thead>\n",
       "    <tr style=\"text-align: right;\">\n",
       "      <th></th>\n",
       "      <th>show_id</th>\n",
       "      <th>type</th>\n",
       "      <th>title</th>\n",
       "      <th>director</th>\n",
       "      <th>cast</th>\n",
       "      <th>country</th>\n",
       "      <th>date_added</th>\n",
       "      <th>release_year</th>\n",
       "      <th>rating</th>\n",
       "      <th>duration</th>\n",
       "      <th>listed_in</th>\n",
       "      <th>description</th>\n",
       "    </tr>\n",
       "  </thead>\n",
       "  <tbody>\n",
       "    <tr>\n",
       "      <th>0</th>\n",
       "      <td>s1</td>\n",
       "      <td>Movie</td>\n",
       "      <td>Dick Johnson Is Dead</td>\n",
       "      <td>Kirsten Johnson</td>\n",
       "      <td>NaN</td>\n",
       "      <td>United States</td>\n",
       "      <td>September 25, 2021</td>\n",
       "      <td>2020</td>\n",
       "      <td>PG-13</td>\n",
       "      <td>90 min</td>\n",
       "      <td>Documentaries</td>\n",
       "      <td>As her father nears the end of his life, filmm...</td>\n",
       "    </tr>\n",
       "    <tr>\n",
       "      <th>1</th>\n",
       "      <td>s2</td>\n",
       "      <td>TV Show</td>\n",
       "      <td>Blood &amp; Water</td>\n",
       "      <td>NaN</td>\n",
       "      <td>Ama Qamata, Khosi Ngema, Gail Mabalane, Thaban...</td>\n",
       "      <td>South Africa</td>\n",
       "      <td>September 24, 2021</td>\n",
       "      <td>2021</td>\n",
       "      <td>TV-MA</td>\n",
       "      <td>2 Seasons</td>\n",
       "      <td>International TV Shows, TV Dramas, TV Mysteries</td>\n",
       "      <td>After crossing paths at a party, a Cape Town t...</td>\n",
       "    </tr>\n",
       "  </tbody>\n",
       "</table>\n",
       "</div>"
      ],
      "text/plain": [
       "  show_id     type                 title         director  \\\n",
       "0      s1    Movie  Dick Johnson Is Dead  Kirsten Johnson   \n",
       "1      s2  TV Show         Blood & Water              NaN   \n",
       "\n",
       "                                                cast        country  \\\n",
       "0                                                NaN  United States   \n",
       "1  Ama Qamata, Khosi Ngema, Gail Mabalane, Thaban...   South Africa   \n",
       "\n",
       "           date_added  release_year rating   duration  \\\n",
       "0  September 25, 2021          2020  PG-13     90 min   \n",
       "1  September 24, 2021          2021  TV-MA  2 Seasons   \n",
       "\n",
       "                                         listed_in  \\\n",
       "0                                    Documentaries   \n",
       "1  International TV Shows, TV Dramas, TV Mysteries   \n",
       "\n",
       "                                         description  \n",
       "0  As her father nears the end of his life, filmm...  \n",
       "1  After crossing paths at a party, a Cape Town t...  "
      ]
     },
     "execution_count": 7,
     "metadata": {},
     "output_type": "execute_result"
    }
   ],
   "source": [
    "df_netflix.head(2)"
   ]
  },
  {
   "attachments": {},
   "cell_type": "markdown",
   "metadata": {},
   "source": [
    "- Se buscan datos diferentes a clasificación en los dataframes."
   ]
  },
  {
   "cell_type": "code",
   "execution_count": 8,
   "metadata": {},
   "outputs": [
    {
     "data": {
      "text/plain": [
       "array(['TV-G', 'PG', 'TV-PG', nan, 'PG-13', 'TV-14', 'G', 'TV-Y7', 'TV-Y',\n",
       "       'TV-Y7-FV'], dtype=object)"
      ]
     },
     "execution_count": 8,
     "metadata": {},
     "output_type": "execute_result"
    }
   ],
   "source": [
    "df_disney['rating'].unique()"
   ]
  },
  {
   "cell_type": "code",
   "execution_count": 9,
   "metadata": {},
   "outputs": [
    {
     "data": {
      "text/plain": [
       "array(['TV-MA', nan, 'PG-13', 'R', 'TV-14', 'PG', 'TV-PG', 'NOT RATED',\n",
       "       'G', 'TV-G', '2 Seasons', 'TV-Y', '93 min', '4 Seasons', 'TV-Y7',\n",
       "       '136 min', '91 min', '85 min', '98 min', '89 min', '94 min',\n",
       "       '86 min', '3 Seasons', '121 min', '88 min', '101 min', '1 Season',\n",
       "       '83 min', '100 min', '95 min', '92 min', '96 min', '109 min',\n",
       "       '99 min', '75 min', '87 min', '67 min', '104 min', '107 min',\n",
       "       '84 min', '103 min', '105 min', '119 min', '114 min', '82 min',\n",
       "       '90 min', '130 min', '110 min', '80 min', '6 Seasons', '97 min',\n",
       "       '111 min', '81 min', '49 min', '45 min', '41 min', '73 min',\n",
       "       '40 min', '36 min', '39 min', '34 min', '47 min', '65 min',\n",
       "       '37 min', '78 min', '102 min', '129 min', '115 min', '112 min',\n",
       "       'NR', '61 min', '106 min', '76 min', '77 min', '79 min', '157 min',\n",
       "       '28 min', '64 min', '7 min', '5 min', '6 min', '127 min',\n",
       "       '142 min', '108 min', '57 min', '118 min', '116 min', '12 Seasons',\n",
       "       '71 min'], dtype=object)"
      ]
     },
     "execution_count": 9,
     "metadata": {},
     "output_type": "execute_result"
    }
   ],
   "source": [
    "df_hulu['rating'].unique()"
   ]
  },
  {
   "cell_type": "code",
   "execution_count": 10,
   "metadata": {},
   "outputs": [
    {
     "data": {
      "text/plain": [
       "array([nan, '13+', 'ALL', '18+', 'R', 'TV-Y', 'TV-Y7', 'NR', '16+',\n",
       "       'TV-PG', '7+', 'TV-14', 'TV-NR', 'TV-G', 'PG-13', 'TV-MA', 'G',\n",
       "       'PG', 'NC-17', 'UNRATED', '16', 'AGES_16_', 'AGES_18_', 'ALL_AGES',\n",
       "       'NOT_RATE'], dtype=object)"
      ]
     },
     "execution_count": 10,
     "metadata": {},
     "output_type": "execute_result"
    }
   ],
   "source": [
    "df_amazon['rating'].unique()"
   ]
  },
  {
   "cell_type": "code",
   "execution_count": 11,
   "metadata": {},
   "outputs": [
    {
     "data": {
      "text/plain": [
       "array(['PG-13', 'TV-MA', 'PG', 'TV-14', 'TV-PG', 'TV-Y', 'TV-Y7', 'R',\n",
       "       'TV-G', 'G', 'NC-17', '74 min', '84 min', '66 min', 'NR', nan,\n",
       "       'TV-Y7-FV', 'UR'], dtype=object)"
      ]
     },
     "execution_count": 11,
     "metadata": {},
     "output_type": "execute_result"
    }
   ],
   "source": [
    "df_netflix['rating'].unique()"
   ]
  },
  {
   "attachments": {},
   "cell_type": "markdown",
   "metadata": {},
   "source": [
    "- Se hace un conteo de los datos de tipo 'duration' en las columnas 'rating' y 'duration' de los dataframes de HULU y de NEFLIX. Esto con el fin de saber cuántos datos deben pasar de la columna 'rating' a la columna 'duration', y poder asegurarse de que el paso de los datos de una columna a la otra fue exitoso."
   ]
  },
  {
   "cell_type": "code",
   "execution_count": 12,
   "metadata": {},
   "outputs": [
    {
     "name": "stdout",
     "output_type": "stream",
     "text": [
      "minutos r: 230, minutos d: 1005, temporadas: 62, temporadas d: 1589\n"
     ]
    }
   ],
   "source": [
    "huluMin = df_hulu['rating'].str.contains('min').value_counts()[True]\n",
    "huluMind = df_hulu['duration'].str.contains('min').value_counts()[True]\n",
    "huluSea = df_hulu['rating'].str.contains('Season').value_counts()[True]\n",
    "huluSead = df_hulu['duration'].str.contains('Season').value_counts()[True]\n",
    "print(f'minutos r: {huluMin}, minutos d: {huluMind}, temporadas: {huluSea}, temporadas d: {huluSead}')"
   ]
  },
  {
   "cell_type": "code",
   "execution_count": 13,
   "metadata": {},
   "outputs": [
    {
     "name": "stdout",
     "output_type": "stream",
     "text": [
      "minutos r: 3, minutos d: 6128\n"
     ]
    }
   ],
   "source": [
    "netMin = df_netflix['rating'].str.contains('min').value_counts()[True]\n",
    "netMind = df_netflix['duration'].str.contains('min').value_counts()[True]\n",
    "print(f'minutos r: {netMin}, minutos d: {netMind}')"
   ]
  },
  {
   "attachments": {},
   "cell_type": "markdown",
   "metadata": {},
   "source": [
    "- Se copian los datos de la columna 'rating' a la columna 'duration' de ambos dataframes."
   ]
  },
  {
   "attachments": {},
   "cell_type": "markdown",
   "metadata": {},
   "source": [
    "- Se transforman los datos de la columna 'rating' que ya fueron copiados en la columna 'duration' en 'g' de clasificación para todos."
   ]
  },
  {
   "cell_type": "code",
   "execution_count": 14,
   "metadata": {},
   "outputs": [],
   "source": [
    "mask = df_hulu['duration'].isnull() & df_hulu['rating'].str.contains('min')\n",
    "df_hulu.loc[mask, 'duration'] = df_hulu.loc[mask, 'rating']\n",
    "masks = df_hulu['duration'].isnull() & df_hulu['rating'].str.contains('Season')\n",
    "df_hulu.loc[masks, 'duration'] = df_hulu.loc[masks, 'rating']\n",
    "mask2 = df_hulu['duration'].str.contains('min') & df_hulu['rating'].str.contains('min')\n",
    "df_hulu.loc[mask2, 'rating'] = 'g'\n",
    "masks3 = df_hulu['duration'].str.contains('Season') & df_hulu['rating'].str.contains('Season')\n",
    "df_hulu.loc[masks3, 'rating'] = 'g'"
   ]
  },
  {
   "cell_type": "code",
   "execution_count": 15,
   "metadata": {},
   "outputs": [],
   "source": [
    "mask = df_netflix['duration'].isnull() & df_netflix['rating'].str.contains('min')\n",
    "df_netflix.loc[mask, 'duration'] = df_netflix.loc[mask, 'rating']\n",
    "mask2 = df_netflix['duration'].str.contains('min') & df_netflix['rating'].str.contains('min')\n",
    "df_netflix.loc[mask2, 'rating'] = 'g'"
   ]
  },
  {
   "attachments": {},
   "cell_type": "markdown",
   "metadata": {},
   "source": [
    "- Se revisa si la cantidad de datos en la columna 'duration' cambió, y si ya no existen los valores de 'duration' en la columna 'rating'"
   ]
  },
  {
   "cell_type": "code",
   "execution_count": 16,
   "metadata": {},
   "outputs": [
    {
     "name": "stdout",
     "output_type": "stream",
     "text": [
      "minutos d: 1235, temporadas d: 1651\n"
     ]
    },
    {
     "data": {
      "text/plain": [
       "array(['TV-MA', nan, 'PG-13', 'R', 'TV-14', 'PG', 'TV-PG', 'NOT RATED',\n",
       "       'G', 'TV-G', 'g', 'TV-Y', 'TV-Y7', 'NR'], dtype=object)"
      ]
     },
     "execution_count": 16,
     "metadata": {},
     "output_type": "execute_result"
    }
   ],
   "source": [
    "huluMind = df_hulu['duration'].str.contains('min').value_counts()[True]\n",
    "huluSead = df_hulu['duration'].str.contains('Season').value_counts()[True]\n",
    "print(f'minutos d: {huluMind}, temporadas d: {huluSead}')\n",
    "df_hulu['rating'].unique()"
   ]
  },
  {
   "cell_type": "code",
   "execution_count": 17,
   "metadata": {},
   "outputs": [
    {
     "name": "stdout",
     "output_type": "stream",
     "text": [
      "minutos d: 6131\n"
     ]
    },
    {
     "data": {
      "text/plain": [
       "array(['PG-13', 'TV-MA', 'PG', 'TV-14', 'TV-PG', 'TV-Y', 'TV-Y7', 'R',\n",
       "       'TV-G', 'G', 'NC-17', 'g', 'NR', nan, 'TV-Y7-FV', 'UR'],\n",
       "      dtype=object)"
      ]
     },
     "execution_count": 17,
     "metadata": {},
     "output_type": "execute_result"
    }
   ],
   "source": [
    "netMind = df_netflix['duration'].str.contains('min').value_counts()[True]\n",
    "print(f'minutos d: {netMind}')\n",
    "df_netflix['rating'].unique()"
   ]
  },
  {
   "attachments": {},
   "cell_type": "markdown",
   "metadata": {},
   "source": [
    "- Se crea una nueva columna en cada dataframe, cuyo título será 'id' que está compuesta por la inicial de la plataforma a la que pertenece y el valor de la columna 'show_id' existente en el dataframe. "
   ]
  },
  {
   "cell_type": "code",
   "execution_count": 18,
   "metadata": {},
   "outputs": [],
   "source": [
    "df_disney.insert(loc=0, column='id', value='d' + df_disney['show_id'])\n",
    "df_hulu.insert(loc=0, column='id', value='h' + df_hulu['show_id'])\n",
    "df_amazon.insert(loc=0, column='id', value='a' + df_amazon['show_id'])\n",
    "df_netflix.insert(loc=0, column='id', value='n' + df_netflix['show_id'])\n"
   ]
  },
  {
   "attachments": {},
   "cell_type": "markdown",
   "metadata": {},
   "source": [
    "- Se crea una columna con el nombre de cada plataforma en cada dataframe."
   ]
  },
  {
   "cell_type": "code",
   "execution_count": 19,
   "metadata": {},
   "outputs": [],
   "source": [
    "df_amazon['platform'] = titles[0]\n",
    "df_disney['platform'] = titles[1]\n",
    "df_hulu['platform'] = titles[2]\n",
    "df_netflix['platform'] = titles[3]"
   ]
  },
  {
   "attachments": {},
   "cell_type": "markdown",
   "metadata": {},
   "source": [
    "- Se combinan los dataframes."
   ]
  },
  {
   "cell_type": "code",
   "execution_count": 20,
   "metadata": {},
   "outputs": [],
   "source": [
    "df_total = pd.concat([df_amazon, df_disney, df_hulu, df_netflix], axis=0)"
   ]
  },
  {
   "attachments": {},
   "cell_type": "markdown",
   "metadata": {},
   "source": [
    "- Se verifica el dataframe 'dt_total'."
   ]
  },
  {
   "cell_type": "code",
   "execution_count": 21,
   "metadata": {},
   "outputs": [
    {
     "name": "stdout",
     "output_type": "stream",
     "text": [
      "<class 'pandas.core.frame.DataFrame'>\n",
      "Int64Index: 22998 entries, 0 to 8806\n",
      "Data columns (total 14 columns):\n",
      " #   Column        Non-Null Count  Dtype \n",
      "---  ------        --------------  ----- \n",
      " 0   id            22998 non-null  object\n",
      " 1   show_id       22998 non-null  object\n",
      " 2   type          22998 non-null  object\n",
      " 3   title         22998 non-null  object\n",
      " 4   director      14739 non-null  object\n",
      " 5   cast          17677 non-null  object\n",
      " 6   country       11499 non-null  object\n",
      " 7   date_added    13444 non-null  object\n",
      " 8   release_year  22998 non-null  int64 \n",
      " 9   rating        22134 non-null  object\n",
      " 10  duration      22811 non-null  object\n",
      " 11  listed_in     22998 non-null  object\n",
      " 12  description   22994 non-null  object\n",
      " 13  platform      22998 non-null  object\n",
      "dtypes: int64(1), object(13)\n",
      "memory usage: 2.6+ MB\n"
     ]
    }
   ],
   "source": [
    "df_total.info()"
   ]
  },
  {
   "attachments": {},
   "cell_type": "markdown",
   "metadata": {},
   "source": [
    "- Se identifican los valores únicos en la columna rating"
   ]
  },
  {
   "cell_type": "code",
   "execution_count": 22,
   "metadata": {},
   "outputs": [
    {
     "data": {
      "text/plain": [
       "array([nan, '13+', 'ALL', '18+', 'R', 'TV-Y', 'TV-Y7', 'NR', '16+',\n",
       "       'TV-PG', '7+', 'TV-14', 'TV-NR', 'TV-G', 'PG-13', 'TV-MA', 'G',\n",
       "       'PG', 'NC-17', 'UNRATED', '16', 'AGES_16_', 'AGES_18_', 'ALL_AGES',\n",
       "       'NOT_RATE', 'TV-Y7-FV', 'NOT RATED', 'g', 'UR'], dtype=object)"
      ]
     },
     "execution_count": 22,
     "metadata": {},
     "output_type": "execute_result"
    }
   ],
   "source": [
    "rating_unique = df_total['rating'].unique()\n",
    "rating_unique"
   ]
  },
  {
   "attachments": {},
   "cell_type": "markdown",
   "metadata": {},
   "source": [
    "- Los valores nulos se cambian por 'g' de clasificación para todos."
   ]
  },
  {
   "cell_type": "code",
   "execution_count": 23,
   "metadata": {},
   "outputs": [],
   "source": [
    "df_total['rating'].fillna('g', inplace=True)"
   ]
  },
  {
   "attachments": {},
   "cell_type": "markdown",
   "metadata": {},
   "source": [
    "- Se definen variables para identificar y contar los valores nulos en la columna 'rating'."
   ]
  },
  {
   "cell_type": "code",
   "execution_count": 24,
   "metadata": {},
   "outputs": [
    {
     "data": {
      "text/plain": [
       "0"
      ]
     },
     "execution_count": 24,
     "metadata": {},
     "output_type": "execute_result"
    }
   ],
   "source": [
    "df_null = df_total['rating'].isnull().sum()\n",
    "df_null"
   ]
  },
  {
   "attachments": {},
   "cell_type": "markdown",
   "metadata": {},
   "source": [
    "- Se identifica el tipo de datos en la columna date_added de cada dataframe."
   ]
  },
  {
   "cell_type": "code",
   "execution_count": 25,
   "metadata": {},
   "outputs": [
    {
     "name": "stdout",
     "output_type": "stream",
     "text": [
      "object\n"
     ]
    }
   ],
   "source": [
    "print(df_total['date_added'].dtype)"
   ]
  },
  {
   "attachments": {},
   "cell_type": "markdown",
   "metadata": {},
   "source": [
    "- Se convierten las fechas que están como str a datetime y se cambia el formato de la columna."
   ]
  },
  {
   "cell_type": "code",
   "execution_count": 26,
   "metadata": {},
   "outputs": [],
   "source": [
    "df_total['date_added'] = pd.to_datetime(df_total['date_added'])\n",
    "df_total['date_added'] = df_total['date_added'].dt.strftime('%Y-%m-%d')\n",
    "df_total['date_added'] = pd.to_datetime(df_total['date_added'])\n",
    "\n"
   ]
  },
  {
   "attachments": {},
   "cell_type": "markdown",
   "metadata": {},
   "source": [
    "- Se comprueba el cambio en el tipo de datos y se revisa la fecha en el dataframe."
   ]
  },
  {
   "cell_type": "code",
   "execution_count": 27,
   "metadata": {},
   "outputs": [
    {
     "name": "stdout",
     "output_type": "stream",
     "text": [
      "datetime64[ns]\n"
     ]
    },
    {
     "data": {
      "text/html": [
       "<div>\n",
       "<style scoped>\n",
       "    .dataframe tbody tr th:only-of-type {\n",
       "        vertical-align: middle;\n",
       "    }\n",
       "\n",
       "    .dataframe tbody tr th {\n",
       "        vertical-align: top;\n",
       "    }\n",
       "\n",
       "    .dataframe thead th {\n",
       "        text-align: right;\n",
       "    }\n",
       "</style>\n",
       "<table border=\"1\" class=\"dataframe\">\n",
       "  <thead>\n",
       "    <tr style=\"text-align: right;\">\n",
       "      <th></th>\n",
       "      <th>id</th>\n",
       "      <th>show_id</th>\n",
       "      <th>type</th>\n",
       "      <th>title</th>\n",
       "      <th>director</th>\n",
       "      <th>cast</th>\n",
       "      <th>country</th>\n",
       "      <th>date_added</th>\n",
       "      <th>release_year</th>\n",
       "      <th>rating</th>\n",
       "      <th>duration</th>\n",
       "      <th>listed_in</th>\n",
       "      <th>description</th>\n",
       "      <th>platform</th>\n",
       "    </tr>\n",
       "  </thead>\n",
       "  <tbody>\n",
       "    <tr>\n",
       "      <th>0</th>\n",
       "      <td>as1</td>\n",
       "      <td>s1</td>\n",
       "      <td>Movie</td>\n",
       "      <td>The Grand Seduction</td>\n",
       "      <td>Don McKellar</td>\n",
       "      <td>Brendan Gleeson, Taylor Kitsch, Gordon Pinsent</td>\n",
       "      <td>Canada</td>\n",
       "      <td>2021-03-30</td>\n",
       "      <td>2014</td>\n",
       "      <td>g</td>\n",
       "      <td>113 min</td>\n",
       "      <td>Comedy, Drama</td>\n",
       "      <td>A small fishing village must procure a local d...</td>\n",
       "      <td>amazon prime</td>\n",
       "    </tr>\n",
       "    <tr>\n",
       "      <th>1</th>\n",
       "      <td>as2</td>\n",
       "      <td>s2</td>\n",
       "      <td>Movie</td>\n",
       "      <td>Take Care Good Night</td>\n",
       "      <td>Girish Joshi</td>\n",
       "      <td>Mahesh Manjrekar, Abhay Mahajan, Sachin Khedekar</td>\n",
       "      <td>India</td>\n",
       "      <td>2021-03-30</td>\n",
       "      <td>2018</td>\n",
       "      <td>13+</td>\n",
       "      <td>110 min</td>\n",
       "      <td>Drama, International</td>\n",
       "      <td>A Metro Family decides to fight a Cyber Crimin...</td>\n",
       "      <td>amazon prime</td>\n",
       "    </tr>\n",
       "  </tbody>\n",
       "</table>\n",
       "</div>"
      ],
      "text/plain": [
       "    id show_id   type                 title      director  \\\n",
       "0  as1      s1  Movie   The Grand Seduction  Don McKellar   \n",
       "1  as2      s2  Movie  Take Care Good Night  Girish Joshi   \n",
       "\n",
       "                                               cast country date_added  \\\n",
       "0    Brendan Gleeson, Taylor Kitsch, Gordon Pinsent  Canada 2021-03-30   \n",
       "1  Mahesh Manjrekar, Abhay Mahajan, Sachin Khedekar   India 2021-03-30   \n",
       "\n",
       "   release_year rating duration             listed_in  \\\n",
       "0          2014      g  113 min         Comedy, Drama   \n",
       "1          2018    13+  110 min  Drama, International   \n",
       "\n",
       "                                         description      platform  \n",
       "0  A small fishing village must procure a local d...  amazon prime  \n",
       "1  A Metro Family decides to fight a Cyber Crimin...  amazon prime  "
      ]
     },
     "execution_count": 27,
     "metadata": {},
     "output_type": "execute_result"
    }
   ],
   "source": [
    "print(df_total['date_added'].dtype)\n",
    "df_total.head(2)"
   ]
  },
  {
   "attachments": {},
   "cell_type": "markdown",
   "metadata": {},
   "source": [
    "- Se verifican las columnas con datos vacíos para identificar cuáles pueden llegar a ser irrelevantes para este estudio."
   ]
  },
  {
   "cell_type": "code",
   "execution_count": 28,
   "metadata": {},
   "outputs": [
    {
     "name": "stdout",
     "output_type": "stream",
     "text": [
      "rows: 22998, \n",
      "id: 0,\n",
      "show_id: 0,\n",
      "type: 0, \n",
      "title: 0, \n",
      "director: 8259, \n",
      "cast: 5321, \n",
      "country: 11499,       \n",
      "date: 9554, \n",
      "release: 0, \n",
      "duration: 187, \n",
      "listed: 0, \n",
      "description: 4,\n",
      "platform: 0\n"
     ]
    }
   ],
   "source": [
    "df_filas = df_total.shape[0]\n",
    "\n",
    "id_null = df_total['id'].isnull().sum()\n",
    "showid_null = df_total['show_id'].isnull().sum()\n",
    "type_null = df_total['type'].isnull().sum()\n",
    "title_null = df_total['title'].isnull().sum()\n",
    "director_null = df_total['director'].isnull().sum()\n",
    "cast_null = df_total['cast'].isnull().sum()\n",
    "country_null = df_total['country'].isnull().sum()\n",
    "date_null = df_total['date_added'].isnull().sum()\n",
    "release_null = df_total['release_year'].isnull().sum()\n",
    "duration_null = df_total['duration'].isnull().sum()\n",
    "listed_null = df_total['listed_in'].isnull().sum()\n",
    "description_null = df_total['description'].isnull().sum()\n",
    "type_null = df_total['type'].isnull().sum()\n",
    "platform_null = df_total['platform'].isnull().sum()\n",
    "\n",
    "print(f'rows: {df_filas}, \\nid: {id_null},\\nshow_id: {showid_null},\\ntype: {type_null}, \\ntitle: {title_null}, \\ndirector: {director_null}, \\ncast: {cast_null}, \\ncountry: {country_null},\\\n",
    "       \\ndate: {date_null}, \\nrelease: {release_null}, \\nduration: {duration_null}, \\nlisted: {listed_null}, \\ndescription: {description_null},\\nplatform: {platform_null}')\n"
   ]
  },
  {
   "attachments": {},
   "cell_type": "markdown",
   "metadata": {},
   "source": [
    "- Se eliminan las columnas 'director', 'country' y 'date_added' puesto que presentan una gran cantidad de valores nulos que podrían llegar a ensuciar la etapa de machine learning más adelante; 'description' y 'listed_in' que no presentan un valor de relevancia a la hora de realizar este estudio; y finalmente 'show_id' ya que fue reemplazada por la columna 'id'."
   ]
  },
  {
   "cell_type": "code",
   "execution_count": 29,
   "metadata": {},
   "outputs": [
    {
     "data": {
      "text/html": [
       "<div>\n",
       "<style scoped>\n",
       "    .dataframe tbody tr th:only-of-type {\n",
       "        vertical-align: middle;\n",
       "    }\n",
       "\n",
       "    .dataframe tbody tr th {\n",
       "        vertical-align: top;\n",
       "    }\n",
       "\n",
       "    .dataframe thead th {\n",
       "        text-align: right;\n",
       "    }\n",
       "</style>\n",
       "<table border=\"1\" class=\"dataframe\">\n",
       "  <thead>\n",
       "    <tr style=\"text-align: right;\">\n",
       "      <th></th>\n",
       "      <th>id</th>\n",
       "      <th>type</th>\n",
       "      <th>title</th>\n",
       "      <th>cast</th>\n",
       "      <th>release_year</th>\n",
       "      <th>rating</th>\n",
       "      <th>duration</th>\n",
       "      <th>platform</th>\n",
       "    </tr>\n",
       "  </thead>\n",
       "  <tbody>\n",
       "    <tr>\n",
       "      <th>0</th>\n",
       "      <td>as1</td>\n",
       "      <td>Movie</td>\n",
       "      <td>The Grand Seduction</td>\n",
       "      <td>Brendan Gleeson, Taylor Kitsch, Gordon Pinsent</td>\n",
       "      <td>2014</td>\n",
       "      <td>g</td>\n",
       "      <td>113 min</td>\n",
       "      <td>amazon prime</td>\n",
       "    </tr>\n",
       "    <tr>\n",
       "      <th>1</th>\n",
       "      <td>as2</td>\n",
       "      <td>Movie</td>\n",
       "      <td>Take Care Good Night</td>\n",
       "      <td>Mahesh Manjrekar, Abhay Mahajan, Sachin Khedekar</td>\n",
       "      <td>2018</td>\n",
       "      <td>13+</td>\n",
       "      <td>110 min</td>\n",
       "      <td>amazon prime</td>\n",
       "    </tr>\n",
       "  </tbody>\n",
       "</table>\n",
       "</div>"
      ],
      "text/plain": [
       "    id   type                 title  \\\n",
       "0  as1  Movie   The Grand Seduction   \n",
       "1  as2  Movie  Take Care Good Night   \n",
       "\n",
       "                                               cast  release_year rating  \\\n",
       "0    Brendan Gleeson, Taylor Kitsch, Gordon Pinsent          2014      g   \n",
       "1  Mahesh Manjrekar, Abhay Mahajan, Sachin Khedekar          2018    13+   \n",
       "\n",
       "  duration      platform  \n",
       "0  113 min  amazon prime  \n",
       "1  110 min  amazon prime  "
      ]
     },
     "execution_count": 29,
     "metadata": {},
     "output_type": "execute_result"
    }
   ],
   "source": [
    "df_total = df_total.drop(['show_id', 'director', 'country', 'date_added', 'description', 'listed_in'], axis=1)\n",
    "df_total.head(2)"
   ]
  },
  {
   "attachments": {},
   "cell_type": "markdown",
   "metadata": {},
   "source": [
    "- Se verifican las columnas que quedaron en el dataframe."
   ]
  },
  {
   "cell_type": "code",
   "execution_count": 30,
   "metadata": {},
   "outputs": [
    {
     "name": "stdout",
     "output_type": "stream",
     "text": [
      "rows: 22998, \n",
      "id: 0,\n",
      "type: 0, \n",
      "title: 0, \n",
      "cast: 5321,       \n",
      "release: 0,\n",
      "rating: 0 \n",
      "duration: 187\n"
     ]
    }
   ],
   "source": [
    "df_filas = df_total.shape[0]\n",
    "\n",
    "id_null = df_total['id'].isnull().sum()\n",
    "type_null = df_total['type'].isnull().sum()\n",
    "title_null = df_total['title'].isnull().sum()\n",
    "cast_null = df_total['cast'].isnull().sum()\n",
    "release_null = df_total['release_year'].isnull().sum()\n",
    "rating_null = df_total['rating'].isnull().sum()\n",
    "duration_null = df_total['duration'].isnull().sum()\n",
    "\n",
    "print(f'rows: {df_filas}, \\nid: {id_null},\\ntype: {type_null}, \\ntitle: {title_null}, \\ncast: {cast_null},\\\n",
    "       \\nrelease: {release_null},\\nrating: {rating_null} \\nduration: {duration_null}')\n"
   ]
  },
  {
   "attachments": {},
   "cell_type": "markdown",
   "metadata": {},
   "source": [
    "- Se convierten todas las columnas con texto a minúsculas.\n"
   ]
  },
  {
   "cell_type": "code",
   "execution_count": 31,
   "metadata": {},
   "outputs": [
    {
     "data": {
      "text/html": [
       "<div>\n",
       "<style scoped>\n",
       "    .dataframe tbody tr th:only-of-type {\n",
       "        vertical-align: middle;\n",
       "    }\n",
       "\n",
       "    .dataframe tbody tr th {\n",
       "        vertical-align: top;\n",
       "    }\n",
       "\n",
       "    .dataframe thead th {\n",
       "        text-align: right;\n",
       "    }\n",
       "</style>\n",
       "<table border=\"1\" class=\"dataframe\">\n",
       "  <thead>\n",
       "    <tr style=\"text-align: right;\">\n",
       "      <th></th>\n",
       "      <th>id</th>\n",
       "      <th>type</th>\n",
       "      <th>title</th>\n",
       "      <th>cast</th>\n",
       "      <th>release_year</th>\n",
       "      <th>rating</th>\n",
       "      <th>duration</th>\n",
       "      <th>platform</th>\n",
       "    </tr>\n",
       "  </thead>\n",
       "  <tbody>\n",
       "    <tr>\n",
       "      <th>0</th>\n",
       "      <td>as1</td>\n",
       "      <td>movie</td>\n",
       "      <td>the grand seduction</td>\n",
       "      <td>brendan gleeson, taylor kitsch, gordon pinsent</td>\n",
       "      <td>2014</td>\n",
       "      <td>g</td>\n",
       "      <td>113 min</td>\n",
       "      <td>amazon prime</td>\n",
       "    </tr>\n",
       "    <tr>\n",
       "      <th>1</th>\n",
       "      <td>as2</td>\n",
       "      <td>movie</td>\n",
       "      <td>take care good night</td>\n",
       "      <td>mahesh manjrekar, abhay mahajan, sachin khedekar</td>\n",
       "      <td>2018</td>\n",
       "      <td>13+</td>\n",
       "      <td>110 min</td>\n",
       "      <td>amazon prime</td>\n",
       "    </tr>\n",
       "  </tbody>\n",
       "</table>\n",
       "</div>"
      ],
      "text/plain": [
       "    id   type                 title  \\\n",
       "0  as1  movie   the grand seduction   \n",
       "1  as2  movie  take care good night   \n",
       "\n",
       "                                               cast  release_year rating  \\\n",
       "0    brendan gleeson, taylor kitsch, gordon pinsent          2014      g   \n",
       "1  mahesh manjrekar, abhay mahajan, sachin khedekar          2018    13+   \n",
       "\n",
       "  duration      platform  \n",
       "0  113 min  amazon prime  \n",
       "1  110 min  amazon prime  "
      ]
     },
     "execution_count": 31,
     "metadata": {},
     "output_type": "execute_result"
    }
   ],
   "source": [
    "df_total[['id', 'type', 'title', 'cast', 'rating', 'duration']] = df_total[['id', 'type', 'title', 'cast', 'rating', 'duration']].apply(lambda x: x.str.lower())\n",
    "df_total.head(2)"
   ]
  },
  {
   "attachments": {},
   "cell_type": "markdown",
   "metadata": {},
   "source": [
    "- Se identifican todos los valores existentes en la columna 'rating' para hacer una parametrización de los mismos."
   ]
  },
  {
   "cell_type": "code",
   "execution_count": 32,
   "metadata": {},
   "outputs": [
    {
     "data": {
      "text/plain": [
       "array(['g', '13+', 'all', '18+', 'r', 'tv-y', 'tv-y7', 'nr', '16+',\n",
       "       'tv-pg', '7+', 'tv-14', 'tv-nr', 'tv-g', 'pg-13', 'tv-ma', 'pg',\n",
       "       'nc-17', 'unrated', '16', 'ages_16_', 'ages_18_', 'all_ages',\n",
       "       'not_rate', 'tv-y7-fv', 'not rated', 'ur'], dtype=object)"
      ]
     },
     "execution_count": 32,
     "metadata": {},
     "output_type": "execute_result"
    }
   ],
   "source": [
    "df_total['rating'].unique()"
   ]
  },
  {
   "attachments": {},
   "cell_type": "markdown",
   "metadata": {},
   "source": [
    "- Se reducen a 6 categorías."
   ]
  },
  {
   "cell_type": "code",
   "execution_count": 33,
   "metadata": {},
   "outputs": [
    {
     "data": {
      "text/plain": [
       "array(['g', '13+', '18+', '7+', '16+', '14+', 'tv-g'], dtype=object)"
      ]
     },
     "execution_count": 33,
     "metadata": {},
     "output_type": "execute_result"
    }
   ],
   "source": [
    "df_total['rating'] = df_total['rating'].replace(to_replace='pg', value='g', regex=True)\n",
    "df_total['rating'] = df_total['rating'].replace(to_replace='not rated', value='g', regex=True)\n",
    "df_total['rating'] = df_total['rating'].replace(to_replace='tv-g', value='g', regex=True)\n",
    "df_total['rating'] = df_total['rating'].replace(to_replace='tv-y', value='g', regex=True)\n",
    "df_total['rating'] = df_total['rating'].replace(to_replace='nr', value='g', regex=True)\n",
    "df_total['rating'] = df_total['rating'].replace(to_replace='all', value='g', regex=True)\n",
    "df_total['rating'] = df_total['rating'].replace(to_replace='ugated', value='g', regex=True)\n",
    "df_total['rating'] = df_total['rating'].replace(to_replace='g_ages', value='g', regex=True)\n",
    "df_total['rating'] = df_total['rating'].replace(to_replace='not_rate', value='g', regex=True)\n",
    "df_total['rating'] = df_total['rating'].replace(to_replace='ur', value='g', regex=True)\n",
    "df_total['rating'] = df_total['rating'].replace(to_replace=r'.*13.*', value='13+', regex=True)\n",
    "df_total['rating'] = df_total['rating'].replace(to_replace=r'.*14.*', value='14+', regex=True)\n",
    "df_total['rating'] = df_total['rating'].replace(to_replace=r'.*7.*', value='7+', regex=True)\n",
    "df_total['rating'] = df_total['rating'].replace(to_replace=r'.*16.*', value='16+', regex=True)\n",
    "df_total['rating'] = df_total['rating'].replace(to_replace=r'.*18.*', value='18+', regex=True)\n",
    "df_total['rating'] = df_total['rating'].replace(to_replace=r'.*tv-ma.*', value='18+', regex=True)\n",
    "df_total['rating'] = df_total['rating'].replace(to_replace=r'.*r.*', value='18+', regex=True)\n",
    "\n",
    "df_total['rating'].unique()\n"
   ]
  },
  {
   "cell_type": "code",
   "execution_count": 34,
   "metadata": {},
   "outputs": [
    {
     "data": {
      "text/plain": [
       "array(['g', '13+', '18+', '7+', '16+', '14+'], dtype=object)"
      ]
     },
     "execution_count": 34,
     "metadata": {},
     "output_type": "execute_result"
    }
   ],
   "source": [
    "df_total['rating'] = df_total['rating'].replace(to_replace='.*tv-g.*', value='g', regex=True)\n",
    "df_total['rating'].unique()"
   ]
  },
  {
   "attachments": {},
   "cell_type": "markdown",
   "metadata": {},
   "source": [
    "- Se crean dos nuevas columnas basadas en la columna 'duration' de tipo int y str."
   ]
  },
  {
   "cell_type": "code",
   "execution_count": 35,
   "metadata": {},
   "outputs": [
    {
     "data": {
      "text/html": [
       "<div>\n",
       "<style scoped>\n",
       "    .dataframe tbody tr th:only-of-type {\n",
       "        vertical-align: middle;\n",
       "    }\n",
       "\n",
       "    .dataframe tbody tr th {\n",
       "        vertical-align: top;\n",
       "    }\n",
       "\n",
       "    .dataframe thead th {\n",
       "        text-align: right;\n",
       "    }\n",
       "</style>\n",
       "<table border=\"1\" class=\"dataframe\">\n",
       "  <thead>\n",
       "    <tr style=\"text-align: right;\">\n",
       "      <th></th>\n",
       "      <th>id</th>\n",
       "      <th>type</th>\n",
       "      <th>title</th>\n",
       "      <th>cast</th>\n",
       "      <th>release_year</th>\n",
       "      <th>rating</th>\n",
       "      <th>duration</th>\n",
       "      <th>platform</th>\n",
       "      <th>duration_int</th>\n",
       "      <th>duration_type</th>\n",
       "    </tr>\n",
       "  </thead>\n",
       "  <tbody>\n",
       "    <tr>\n",
       "      <th>0</th>\n",
       "      <td>as1</td>\n",
       "      <td>movie</td>\n",
       "      <td>the grand seduction</td>\n",
       "      <td>brendan gleeson, taylor kitsch, gordon pinsent</td>\n",
       "      <td>2014</td>\n",
       "      <td>g</td>\n",
       "      <td>113 min</td>\n",
       "      <td>amazon prime</td>\n",
       "      <td>113</td>\n",
       "      <td>min</td>\n",
       "    </tr>\n",
       "    <tr>\n",
       "      <th>1</th>\n",
       "      <td>as2</td>\n",
       "      <td>movie</td>\n",
       "      <td>take care good night</td>\n",
       "      <td>mahesh manjrekar, abhay mahajan, sachin khedekar</td>\n",
       "      <td>2018</td>\n",
       "      <td>13+</td>\n",
       "      <td>110 min</td>\n",
       "      <td>amazon prime</td>\n",
       "      <td>110</td>\n",
       "      <td>min</td>\n",
       "    </tr>\n",
       "  </tbody>\n",
       "</table>\n",
       "</div>"
      ],
      "text/plain": [
       "    id   type                 title  \\\n",
       "0  as1  movie   the grand seduction   \n",
       "1  as2  movie  take care good night   \n",
       "\n",
       "                                               cast  release_year rating  \\\n",
       "0    brendan gleeson, taylor kitsch, gordon pinsent          2014      g   \n",
       "1  mahesh manjrekar, abhay mahajan, sachin khedekar          2018    13+   \n",
       "\n",
       "  duration      platform duration_int duration_type  \n",
       "0  113 min  amazon prime          113           min  \n",
       "1  110 min  amazon prime          110           min  "
      ]
     },
     "execution_count": 35,
     "metadata": {},
     "output_type": "execute_result"
    }
   ],
   "source": [
    "df_total[['duration_int', 'duration_type']] = df_total['duration'].str.extract('(\\d+) (\\w+)', expand=True)\n",
    "df_total.head(2)"
   ]
  },
  {
   "attachments": {},
   "cell_type": "markdown",
   "metadata": {},
   "source": [
    "- Se reemplaza el singular 'season' por el plural 'seasons' en los datos de la columna 'duration_type'"
   ]
  },
  {
   "cell_type": "code",
   "execution_count": 36,
   "metadata": {},
   "outputs": [
    {
     "data": {
      "text/plain": [
       "array(['min', 'seasons', nan], dtype=object)"
      ]
     },
     "execution_count": 36,
     "metadata": {},
     "output_type": "execute_result"
    }
   ],
   "source": [
    "df_total['duration_type'] = df_total['duration_type'].replace('season', 'seasons')\n",
    "df_total['duration_type'].unique()"
   ]
  },
  {
   "attachments": {},
   "cell_type": "markdown",
   "metadata": {},
   "source": [
    "- Se cuentan los valores nulos en las columnas respectivas a la duración."
   ]
  },
  {
   "cell_type": "code",
   "execution_count": 37,
   "metadata": {},
   "outputs": [
    {
     "name": "stdout",
     "output_type": "stream",
     "text": [
      "duration: 187,\n",
      "duration int: 187, \n",
      "duration type: 187\n"
     ]
    }
   ],
   "source": [
    "id_null = df_total['duration'].isnull().sum()\n",
    "type_null = df_total['duration_int'].isnull().sum()\n",
    "title_null = df_total['duration_type'].isnull().sum()\n",
    "\n",
    "print(f'duration: {id_null},\\nduration int: {type_null}, \\nduration type: {title_null}')"
   ]
  },
  {
   "attachments": {},
   "cell_type": "markdown",
   "metadata": {},
   "source": [
    "- Se identifican los valores nulos de la columna 'duration' y se analiza si las columnas 'duration_int' y 'duration_tipe' también están nulos en sus respectivas filas."
   ]
  },
  {
   "cell_type": "code",
   "execution_count": 38,
   "metadata": {},
   "outputs": [
    {
     "data": {
      "text/html": [
       "<div>\n",
       "<style scoped>\n",
       "    .dataframe tbody tr th:only-of-type {\n",
       "        vertical-align: middle;\n",
       "    }\n",
       "\n",
       "    .dataframe tbody tr th {\n",
       "        vertical-align: top;\n",
       "    }\n",
       "\n",
       "    .dataframe thead th {\n",
       "        text-align: right;\n",
       "    }\n",
       "</style>\n",
       "<table border=\"1\" class=\"dataframe\">\n",
       "  <thead>\n",
       "    <tr style=\"text-align: right;\">\n",
       "      <th></th>\n",
       "      <th>id</th>\n",
       "      <th>type</th>\n",
       "      <th>title</th>\n",
       "      <th>cast</th>\n",
       "      <th>release_year</th>\n",
       "      <th>rating</th>\n",
       "      <th>duration</th>\n",
       "      <th>platform</th>\n",
       "      <th>duration_int</th>\n",
       "      <th>duration_type</th>\n",
       "    </tr>\n",
       "  </thead>\n",
       "  <tbody>\n",
       "    <tr>\n",
       "      <th>0</th>\n",
       "      <td>hs1</td>\n",
       "      <td>movie</td>\n",
       "      <td>ricky velez: here's everything</td>\n",
       "      <td>NaN</td>\n",
       "      <td>2021</td>\n",
       "      <td>18+</td>\n",
       "      <td>NaN</td>\n",
       "      <td>hulu</td>\n",
       "      <td>NaN</td>\n",
       "      <td>NaN</td>\n",
       "    </tr>\n",
       "    <tr>\n",
       "      <th>12</th>\n",
       "      <td>hs13</td>\n",
       "      <td>movie</td>\n",
       "      <td>out of the shadows: the man behind the steele ...</td>\n",
       "      <td>NaN</td>\n",
       "      <td>2021</td>\n",
       "      <td>g</td>\n",
       "      <td>NaN</td>\n",
       "      <td>hulu</td>\n",
       "      <td>NaN</td>\n",
       "      <td>NaN</td>\n",
       "    </tr>\n",
       "  </tbody>\n",
       "</table>\n",
       "</div>"
      ],
      "text/plain": [
       "      id   type                                              title cast  \\\n",
       "0    hs1  movie                     ricky velez: here's everything  NaN   \n",
       "12  hs13  movie  out of the shadows: the man behind the steele ...  NaN   \n",
       "\n",
       "    release_year rating duration platform duration_int duration_type  \n",
       "0           2021    18+      NaN     hulu          NaN           NaN  \n",
       "12          2021      g      NaN     hulu          NaN           NaN  "
      ]
     },
     "execution_count": 38,
     "metadata": {},
     "output_type": "execute_result"
    }
   ],
   "source": [
    "null_mask = df_total['duration'].isnull()\n",
    "new_rows = df_total.loc[null_mask]\n",
    "new_rows.head(2)"
   ]
  },
  {
   "attachments": {},
   "cell_type": "markdown",
   "metadata": {},
   "source": [
    "- Se cambian las filas de las columnas 'cast', 'duration_int' y 'duration_type' que coincidan con estar vacías."
   ]
  },
  {
   "cell_type": "code",
   "execution_count": 39,
   "metadata": {},
   "outputs": [],
   "source": [
    "# df_total = df_total.dropna(subset=['duration', 'duration_int', 'duration_type'])\n",
    "df_total['duration_int'].fillna(0, inplace=True)\n",
    "df_total['duration_type'].fillna('sin dato', inplace=True)\n",
    "df_total['cast'].fillna('sin dato', inplace=True)"
   ]
  },
  {
   "attachments": {},
   "cell_type": "markdown",
   "metadata": {},
   "source": [
    "- Se revisan de nuevo los valores nulos en la columna 'duration' para asegurarse de que fueron eliminadas dichas filas."
   ]
  },
  {
   "cell_type": "code",
   "execution_count": 40,
   "metadata": {},
   "outputs": [
    {
     "data": {
      "text/html": [
       "<div>\n",
       "<style scoped>\n",
       "    .dataframe tbody tr th:only-of-type {\n",
       "        vertical-align: middle;\n",
       "    }\n",
       "\n",
       "    .dataframe tbody tr th {\n",
       "        vertical-align: top;\n",
       "    }\n",
       "\n",
       "    .dataframe thead th {\n",
       "        text-align: right;\n",
       "    }\n",
       "</style>\n",
       "<table border=\"1\" class=\"dataframe\">\n",
       "  <thead>\n",
       "    <tr style=\"text-align: right;\">\n",
       "      <th></th>\n",
       "      <th>id</th>\n",
       "      <th>type</th>\n",
       "      <th>title</th>\n",
       "      <th>cast</th>\n",
       "      <th>release_year</th>\n",
       "      <th>rating</th>\n",
       "      <th>duration</th>\n",
       "      <th>platform</th>\n",
       "      <th>duration_int</th>\n",
       "      <th>duration_type</th>\n",
       "    </tr>\n",
       "  </thead>\n",
       "  <tbody>\n",
       "    <tr>\n",
       "      <th>0</th>\n",
       "      <td>hs1</td>\n",
       "      <td>movie</td>\n",
       "      <td>ricky velez: here's everything</td>\n",
       "      <td>sin dato</td>\n",
       "      <td>2021</td>\n",
       "      <td>18+</td>\n",
       "      <td>NaN</td>\n",
       "      <td>hulu</td>\n",
       "      <td>0</td>\n",
       "      <td>sin dato</td>\n",
       "    </tr>\n",
       "    <tr>\n",
       "      <th>12</th>\n",
       "      <td>hs13</td>\n",
       "      <td>movie</td>\n",
       "      <td>out of the shadows: the man behind the steele ...</td>\n",
       "      <td>sin dato</td>\n",
       "      <td>2021</td>\n",
       "      <td>g</td>\n",
       "      <td>NaN</td>\n",
       "      <td>hulu</td>\n",
       "      <td>0</td>\n",
       "      <td>sin dato</td>\n",
       "    </tr>\n",
       "  </tbody>\n",
       "</table>\n",
       "</div>"
      ],
      "text/plain": [
       "      id   type                                              title      cast  \\\n",
       "0    hs1  movie                     ricky velez: here's everything  sin dato   \n",
       "12  hs13  movie  out of the shadows: the man behind the steele ...  sin dato   \n",
       "\n",
       "    release_year rating duration platform duration_int duration_type  \n",
       "0           2021    18+      NaN     hulu            0      sin dato  \n",
       "12          2021      g      NaN     hulu            0      sin dato  "
      ]
     },
     "execution_count": 40,
     "metadata": {},
     "output_type": "execute_result"
    }
   ],
   "source": [
    "null_mask = df_total['duration'].isnull()\n",
    "new_rows = df_total.loc[null_mask]\n",
    "new_rows.head(2)"
   ]
  },
  {
   "attachments": {},
   "cell_type": "markdown",
   "metadata": {},
   "source": [
    "- Se elimina la columna 'duration', puesto que su información ya está en las dos columnas nuevas y esto la hace innecesaria."
   ]
  },
  {
   "cell_type": "code",
   "execution_count": 41,
   "metadata": {},
   "outputs": [
    {
     "data": {
      "text/html": [
       "<div>\n",
       "<style scoped>\n",
       "    .dataframe tbody tr th:only-of-type {\n",
       "        vertical-align: middle;\n",
       "    }\n",
       "\n",
       "    .dataframe tbody tr th {\n",
       "        vertical-align: top;\n",
       "    }\n",
       "\n",
       "    .dataframe thead th {\n",
       "        text-align: right;\n",
       "    }\n",
       "</style>\n",
       "<table border=\"1\" class=\"dataframe\">\n",
       "  <thead>\n",
       "    <tr style=\"text-align: right;\">\n",
       "      <th></th>\n",
       "      <th>id</th>\n",
       "      <th>type</th>\n",
       "      <th>title</th>\n",
       "      <th>cast</th>\n",
       "      <th>release_year</th>\n",
       "      <th>rating</th>\n",
       "      <th>platform</th>\n",
       "      <th>duration_int</th>\n",
       "      <th>duration_type</th>\n",
       "    </tr>\n",
       "  </thead>\n",
       "  <tbody>\n",
       "    <tr>\n",
       "      <th>0</th>\n",
       "      <td>as1</td>\n",
       "      <td>movie</td>\n",
       "      <td>the grand seduction</td>\n",
       "      <td>brendan gleeson, taylor kitsch, gordon pinsent</td>\n",
       "      <td>2014</td>\n",
       "      <td>g</td>\n",
       "      <td>amazon prime</td>\n",
       "      <td>113</td>\n",
       "      <td>min</td>\n",
       "    </tr>\n",
       "    <tr>\n",
       "      <th>1</th>\n",
       "      <td>as2</td>\n",
       "      <td>movie</td>\n",
       "      <td>take care good night</td>\n",
       "      <td>mahesh manjrekar, abhay mahajan, sachin khedekar</td>\n",
       "      <td>2018</td>\n",
       "      <td>13+</td>\n",
       "      <td>amazon prime</td>\n",
       "      <td>110</td>\n",
       "      <td>min</td>\n",
       "    </tr>\n",
       "  </tbody>\n",
       "</table>\n",
       "</div>"
      ],
      "text/plain": [
       "    id   type                 title  \\\n",
       "0  as1  movie   the grand seduction   \n",
       "1  as2  movie  take care good night   \n",
       "\n",
       "                                               cast  release_year rating  \\\n",
       "0    brendan gleeson, taylor kitsch, gordon pinsent          2014      g   \n",
       "1  mahesh manjrekar, abhay mahajan, sachin khedekar          2018    13+   \n",
       "\n",
       "       platform duration_int duration_type  \n",
       "0  amazon prime          113           min  \n",
       "1  amazon prime          110           min  "
      ]
     },
     "execution_count": 41,
     "metadata": {},
     "output_type": "execute_result"
    }
   ],
   "source": [
    "df_total = df_total.drop('duration', axis=1)\n",
    "df_total.head(2)"
   ]
  },
  {
   "attachments": {},
   "cell_type": "markdown",
   "metadata": {},
   "source": [
    "- Se verifican las columnas que tengan valores nulos."
   ]
  },
  {
   "cell_type": "code",
   "execution_count": 42,
   "metadata": {},
   "outputs": [
    {
     "name": "stdout",
     "output_type": "stream",
     "text": [
      "rows: (22998, 9), \n",
      "id: 0,\n",
      "type: 0, \n",
      "title: 0, \n",
      "cast: 0,       \n",
      "release: 0, \n",
      "duration: 0\n"
     ]
    }
   ],
   "source": [
    "df_filas = df_total.shape\n",
    "\n",
    "id_null = df_total['id'].isnull().sum()\n",
    "type_null = df_total['type'].isnull().sum()\n",
    "title_null = df_total['title'].isnull().sum()\n",
    "cast_null = df_total['cast'].isnull().sum()\n",
    "release_null = df_total['release_year'].isnull().sum()\n",
    "duration_null = df_total['duration_type'].isnull().sum()\n",
    "\n",
    "print(f'rows: {df_filas}, \\nid: {id_null},\\ntype: {type_null}, \\ntitle: {title_null}, \\ncast: {cast_null},\\\n",
    "       \\nrelease: {release_null}, \\nduration: {duration_null}')\n"
   ]
  },
  {
   "attachments": {},
   "cell_type": "markdown",
   "metadata": {},
   "source": [
    "- Se agregan los datasets de los ratings al igual que se hizo con los datasets de las plataformas."
   ]
  },
  {
   "cell_type": "code",
   "execution_count": 43,
   "metadata": {},
   "outputs": [
    {
     "data": {
      "text/plain": [
       "[' 1', ' 2', ' 3', ' 4', ' 5', ' 6', ' 7', ' 8']"
      ]
     },
     "execution_count": 43,
     "metadata": {},
     "output_type": "execute_result"
    }
   ],
   "source": [
    "csv_files = 'Ratings/*.csv'\n",
    "\n",
    "files_names = glob.glob(csv_files)\n",
    "\n",
    "x_ = []\n",
    "t_ = []\n",
    "titles = []\n",
    "\n",
    "for x in range(len(files_names)):\n",
    "    x_.append(files_names[x].replace('C:\\\\Users\\\\USER\\\\Documents\\\\Python\\\\SoyHenry\\\\MLOpsReviews\\\\Ratings\\\\', ''))\n",
    "    t_.append(x_[x].replace('.csv', ''))\n",
    "    titles.append(t_[x].replace('Ratings\\\\', ' '))\n",
    "titles\n"
   ]
  },
  {
   "attachments": {},
   "cell_type": "markdown",
   "metadata": {},
   "source": [
    "- Se crea un dataframe para cada archivo CSV en la carpeta 'Ratings'."
   ]
  },
  {
   "cell_type": "code",
   "execution_count": 44,
   "metadata": {},
   "outputs": [],
   "source": [
    "df_ratings1 = pd.read_csv(files_names[0])\n",
    "df_ratings2 = pd.read_csv(files_names[1])\n",
    "df_ratings3 = pd.read_csv(files_names[2])\n",
    "df_ratings4 = pd.read_csv(files_names[3])\n",
    "df_ratings5 = pd.read_csv(files_names[4])\n",
    "df_ratings6 = pd.read_csv(files_names[5])\n",
    "df_ratings7 = pd.read_csv(files_names[6])\n",
    "df_ratings8 = pd.read_csv(files_names[7])"
   ]
  },
  {
   "attachments": {},
   "cell_type": "markdown",
   "metadata": {},
   "source": [
    "- Se concatenan todos los datasets de las clasificacions de los usuarios."
   ]
  },
  {
   "cell_type": "code",
   "execution_count": 45,
   "metadata": {},
   "outputs": [
    {
     "data": {
      "text/html": [
       "<div>\n",
       "<style scoped>\n",
       "    .dataframe tbody tr th:only-of-type {\n",
       "        vertical-align: middle;\n",
       "    }\n",
       "\n",
       "    .dataframe tbody tr th {\n",
       "        vertical-align: top;\n",
       "    }\n",
       "\n",
       "    .dataframe thead th {\n",
       "        text-align: right;\n",
       "    }\n",
       "</style>\n",
       "<table border=\"1\" class=\"dataframe\">\n",
       "  <thead>\n",
       "    <tr style=\"text-align: right;\">\n",
       "      <th></th>\n",
       "      <th>userId</th>\n",
       "      <th>rating</th>\n",
       "      <th>timestamp</th>\n",
       "      <th>movieId</th>\n",
       "    </tr>\n",
       "  </thead>\n",
       "  <tbody>\n",
       "    <tr>\n",
       "      <th>0</th>\n",
       "      <td>1</td>\n",
       "      <td>1.0</td>\n",
       "      <td>1425941529</td>\n",
       "      <td>as680</td>\n",
       "    </tr>\n",
       "    <tr>\n",
       "      <th>1</th>\n",
       "      <td>1</td>\n",
       "      <td>4.5</td>\n",
       "      <td>1425942435</td>\n",
       "      <td>ns2186</td>\n",
       "    </tr>\n",
       "  </tbody>\n",
       "</table>\n",
       "</div>"
      ],
      "text/plain": [
       "   userId  rating   timestamp movieId\n",
       "0       1     1.0  1425941529   as680\n",
       "1       1     4.5  1425942435  ns2186"
      ]
     },
     "execution_count": 45,
     "metadata": {},
     "output_type": "execute_result"
    }
   ],
   "source": [
    "df_ratings_total = pd.concat([df_ratings1, df_ratings2, df_ratings3, df_ratings4, df_ratings5, df_ratings6, df_ratings7], axis=0)\n",
    "df_ratings_total.head(2)"
   ]
  },
  {
   "attachments": {},
   "cell_type": "markdown",
   "metadata": {},
   "source": [
    "- Se crea un csv con los ratings combinados."
   ]
  },
  {
   "cell_type": "code",
   "execution_count": 46,
   "metadata": {},
   "outputs": [],
   "source": [
    "df_ratings_total.to_csv('ETLcsvResults\\\\the_ratings.csv')"
   ]
  },
  {
   "attachments": {},
   "cell_type": "markdown",
   "metadata": {},
   "source": [
    "- Se crea un nuevo dataset basado en la agrupación de los datos idénticos en la columna 'movieId' y se hace un promedio de la columna 'rating'"
   ]
  },
  {
   "cell_type": "code",
   "execution_count": 47,
   "metadata": {},
   "outputs": [
    {
     "data": {
      "text/html": [
       "<div>\n",
       "<style scoped>\n",
       "    .dataframe tbody tr th:only-of-type {\n",
       "        vertical-align: middle;\n",
       "    }\n",
       "\n",
       "    .dataframe tbody tr th {\n",
       "        vertical-align: top;\n",
       "    }\n",
       "\n",
       "    .dataframe thead th {\n",
       "        text-align: right;\n",
       "    }\n",
       "</style>\n",
       "<table border=\"1\" class=\"dataframe\">\n",
       "  <thead>\n",
       "    <tr style=\"text-align: right;\">\n",
       "      <th></th>\n",
       "      <th>movieId</th>\n",
       "      <th>rating</th>\n",
       "    </tr>\n",
       "  </thead>\n",
       "  <tbody>\n",
       "    <tr>\n",
       "      <th>0</th>\n",
       "      <td>as1</td>\n",
       "      <td>3.463048</td>\n",
       "    </tr>\n",
       "    <tr>\n",
       "      <th>1</th>\n",
       "      <td>as10</td>\n",
       "      <td>3.453229</td>\n",
       "    </tr>\n",
       "  </tbody>\n",
       "</table>\n",
       "</div>"
      ],
      "text/plain": [
       "  movieId    rating\n",
       "0     as1  3.463048\n",
       "1    as10  3.453229"
      ]
     },
     "execution_count": 47,
     "metadata": {},
     "output_type": "execute_result"
    }
   ],
   "source": [
    "df_ratings_mean = df_ratings_total.groupby('movieId', as_index=False)['rating'].mean()\n",
    "df_ratings_mean.head(2)\n"
   ]
  },
  {
   "attachments": {},
   "cell_type": "markdown",
   "metadata": {},
   "source": [
    "- Se cambia el nombre de la columna 'id' en el dataframe de las plataformas por 'movieId' para que coincida con la columna 'movieId' del dataframe de ratings. "
   ]
  },
  {
   "attachments": {},
   "cell_type": "markdown",
   "metadata": {},
   "source": [
    "- También se cambia el nombre de la columna 'rating' en el dataframe de los promedios por 'score' para que no se causen confusiones al unir los dos dataframes.\n"
   ]
  },
  {
   "cell_type": "code",
   "execution_count": 48,
   "metadata": {},
   "outputs": [
    {
     "data": {
      "text/html": [
       "<div>\n",
       "<style scoped>\n",
       "    .dataframe tbody tr th:only-of-type {\n",
       "        vertical-align: middle;\n",
       "    }\n",
       "\n",
       "    .dataframe tbody tr th {\n",
       "        vertical-align: top;\n",
       "    }\n",
       "\n",
       "    .dataframe thead th {\n",
       "        text-align: right;\n",
       "    }\n",
       "</style>\n",
       "<table border=\"1\" class=\"dataframe\">\n",
       "  <thead>\n",
       "    <tr style=\"text-align: right;\">\n",
       "      <th></th>\n",
       "      <th>movieId</th>\n",
       "      <th>type</th>\n",
       "      <th>title</th>\n",
       "      <th>cast</th>\n",
       "      <th>release_year</th>\n",
       "      <th>rating</th>\n",
       "      <th>platform</th>\n",
       "      <th>duration_int</th>\n",
       "      <th>duration_type</th>\n",
       "    </tr>\n",
       "  </thead>\n",
       "  <tbody>\n",
       "    <tr>\n",
       "      <th>0</th>\n",
       "      <td>as1</td>\n",
       "      <td>movie</td>\n",
       "      <td>the grand seduction</td>\n",
       "      <td>brendan gleeson, taylor kitsch, gordon pinsent</td>\n",
       "      <td>2014</td>\n",
       "      <td>g</td>\n",
       "      <td>amazon prime</td>\n",
       "      <td>113</td>\n",
       "      <td>min</td>\n",
       "    </tr>\n",
       "    <tr>\n",
       "      <th>1</th>\n",
       "      <td>as2</td>\n",
       "      <td>movie</td>\n",
       "      <td>take care good night</td>\n",
       "      <td>mahesh manjrekar, abhay mahajan, sachin khedekar</td>\n",
       "      <td>2018</td>\n",
       "      <td>13+</td>\n",
       "      <td>amazon prime</td>\n",
       "      <td>110</td>\n",
       "      <td>min</td>\n",
       "    </tr>\n",
       "  </tbody>\n",
       "</table>\n",
       "</div>"
      ],
      "text/plain": [
       "  movieId   type                 title  \\\n",
       "0     as1  movie   the grand seduction   \n",
       "1     as2  movie  take care good night   \n",
       "\n",
       "                                               cast  release_year rating  \\\n",
       "0    brendan gleeson, taylor kitsch, gordon pinsent          2014      g   \n",
       "1  mahesh manjrekar, abhay mahajan, sachin khedekar          2018    13+   \n",
       "\n",
       "       platform duration_int duration_type  \n",
       "0  amazon prime          113           min  \n",
       "1  amazon prime          110           min  "
      ]
     },
     "execution_count": 48,
     "metadata": {},
     "output_type": "execute_result"
    }
   ],
   "source": [
    "df_total = df_total.rename(columns={'id': 'movieId'})\n",
    "df_ratings_mean = df_ratings_mean.rename(columns={'rating': 'score'})\n",
    "df_total.head(2)"
   ]
  },
  {
   "cell_type": "code",
   "execution_count": 49,
   "metadata": {},
   "outputs": [
    {
     "data": {
      "text/html": [
       "<div>\n",
       "<style scoped>\n",
       "    .dataframe tbody tr th:only-of-type {\n",
       "        vertical-align: middle;\n",
       "    }\n",
       "\n",
       "    .dataframe tbody tr th {\n",
       "        vertical-align: top;\n",
       "    }\n",
       "\n",
       "    .dataframe thead th {\n",
       "        text-align: right;\n",
       "    }\n",
       "</style>\n",
       "<table border=\"1\" class=\"dataframe\">\n",
       "  <thead>\n",
       "    <tr style=\"text-align: right;\">\n",
       "      <th></th>\n",
       "      <th>movieId</th>\n",
       "      <th>score</th>\n",
       "    </tr>\n",
       "  </thead>\n",
       "  <tbody>\n",
       "    <tr>\n",
       "      <th>0</th>\n",
       "      <td>as1</td>\n",
       "      <td>3.463048</td>\n",
       "    </tr>\n",
       "    <tr>\n",
       "      <th>1</th>\n",
       "      <td>as10</td>\n",
       "      <td>3.453229</td>\n",
       "    </tr>\n",
       "  </tbody>\n",
       "</table>\n",
       "</div>"
      ],
      "text/plain": [
       "  movieId     score\n",
       "0     as1  3.463048\n",
       "1    as10  3.453229"
      ]
     },
     "execution_count": 49,
     "metadata": {},
     "output_type": "execute_result"
    }
   ],
   "source": [
    "df_ratings_mean.head(2)"
   ]
  },
  {
   "attachments": {},
   "cell_type": "markdown",
   "metadata": {},
   "source": [
    "- Se unen los dos dataframes (plataformas y promedios) por medio de la columna 'movieId'."
   ]
  },
  {
   "cell_type": "code",
   "execution_count": 50,
   "metadata": {},
   "outputs": [
    {
     "data": {
      "text/html": [
       "<div>\n",
       "<style scoped>\n",
       "    .dataframe tbody tr th:only-of-type {\n",
       "        vertical-align: middle;\n",
       "    }\n",
       "\n",
       "    .dataframe tbody tr th {\n",
       "        vertical-align: top;\n",
       "    }\n",
       "\n",
       "    .dataframe thead th {\n",
       "        text-align: right;\n",
       "    }\n",
       "</style>\n",
       "<table border=\"1\" class=\"dataframe\">\n",
       "  <thead>\n",
       "    <tr style=\"text-align: right;\">\n",
       "      <th></th>\n",
       "      <th>movieId</th>\n",
       "      <th>type</th>\n",
       "      <th>title</th>\n",
       "      <th>cast</th>\n",
       "      <th>release_year</th>\n",
       "      <th>rating</th>\n",
       "      <th>platform</th>\n",
       "      <th>duration_int</th>\n",
       "      <th>duration_type</th>\n",
       "      <th>score</th>\n",
       "    </tr>\n",
       "  </thead>\n",
       "  <tbody>\n",
       "    <tr>\n",
       "      <th>0</th>\n",
       "      <td>as1</td>\n",
       "      <td>movie</td>\n",
       "      <td>the grand seduction</td>\n",
       "      <td>brendan gleeson, taylor kitsch, gordon pinsent</td>\n",
       "      <td>2014</td>\n",
       "      <td>g</td>\n",
       "      <td>amazon prime</td>\n",
       "      <td>113</td>\n",
       "      <td>min</td>\n",
       "      <td>3.463048</td>\n",
       "    </tr>\n",
       "    <tr>\n",
       "      <th>1</th>\n",
       "      <td>as2</td>\n",
       "      <td>movie</td>\n",
       "      <td>take care good night</td>\n",
       "      <td>mahesh manjrekar, abhay mahajan, sachin khedekar</td>\n",
       "      <td>2018</td>\n",
       "      <td>13+</td>\n",
       "      <td>amazon prime</td>\n",
       "      <td>110</td>\n",
       "      <td>min</td>\n",
       "      <td>3.566434</td>\n",
       "    </tr>\n",
       "  </tbody>\n",
       "</table>\n",
       "</div>"
      ],
      "text/plain": [
       "  movieId   type                 title  \\\n",
       "0     as1  movie   the grand seduction   \n",
       "1     as2  movie  take care good night   \n",
       "\n",
       "                                               cast  release_year rating  \\\n",
       "0    brendan gleeson, taylor kitsch, gordon pinsent          2014      g   \n",
       "1  mahesh manjrekar, abhay mahajan, sachin khedekar          2018    13+   \n",
       "\n",
       "       platform duration_int duration_type     score  \n",
       "0  amazon prime          113           min  3.463048  \n",
       "1  amazon prime          110           min  3.566434  "
      ]
     },
     "execution_count": 50,
     "metadata": {},
     "output_type": "execute_result"
    }
   ],
   "source": [
    "df_total_ratings = pd.merge(df_total, df_ratings_mean, on='movieId')\n",
    "df_total_ratings.head(2)\n"
   ]
  },
  {
   "attachments": {},
   "cell_type": "markdown",
   "metadata": {},
   "source": [
    "- Se cambian los valores de la columna 'duration_int' a 'int'"
   ]
  },
  {
   "cell_type": "code",
   "execution_count": 51,
   "metadata": {},
   "outputs": [],
   "source": [
    "df_total_ratings['duration_int'] = df_total_ratings['duration_int'].astype(int)"
   ]
  },
  {
   "attachments": {},
   "cell_type": "markdown",
   "metadata": {},
   "source": [
    "- Se crea un csv con base en las columnas que han sido catalogadas como de utilidad para el ejercicio."
   ]
  },
  {
   "cell_type": "code",
   "execution_count": 52,
   "metadata": {},
   "outputs": [],
   "source": [
    "df_total_ratings.to_csv('ETLcsvResults\\\\the_movies.csv')\n"
   ]
  },
  {
   "cell_type": "code",
   "execution_count": 53,
   "metadata": {},
   "outputs": [
    {
     "name": "stdout",
     "output_type": "stream",
     "text": [
      "<class 'pandas.core.frame.DataFrame'>\n",
      "Int64Index: 22998 entries, 0 to 22997\n",
      "Data columns (total 10 columns):\n",
      " #   Column         Non-Null Count  Dtype  \n",
      "---  ------         --------------  -----  \n",
      " 0   movieId        22998 non-null  object \n",
      " 1   type           22998 non-null  object \n",
      " 2   title          22998 non-null  object \n",
      " 3   cast           22998 non-null  object \n",
      " 4   release_year   22998 non-null  int64  \n",
      " 5   rating         22998 non-null  object \n",
      " 6   platform       22998 non-null  object \n",
      " 7   duration_int   22998 non-null  int32  \n",
      " 8   duration_type  22998 non-null  object \n",
      " 9   score          22998 non-null  float64\n",
      "dtypes: float64(1), int32(1), int64(1), object(7)\n",
      "memory usage: 1.8+ MB\n"
     ]
    }
   ],
   "source": [
    "df_total_ratings.info()"
   ]
  },
  {
   "attachments": {},
   "cell_type": "markdown",
   "metadata": {},
   "source": [
    "- Se definen las consultas de la API "
   ]
  },
  {
   "attachments": {},
   "cell_type": "markdown",
   "metadata": {},
   "source": [
    " 1. Película con mayor duración con filtros opcionales de AÑO, PLATAFORMA Y TIPO DE DURACIÓN. (la función debe llamarse get_max_duration(year, platform, duration_type))"
   ]
  },
  {
   "cell_type": "code",
   "execution_count": 54,
   "metadata": {},
   "outputs": [
    {
     "data": {
      "text/plain": [
       "'La producción más larga según tus especificaciones es: dick johnson is dead.'"
      ]
     },
     "execution_count": 54,
     "metadata": {},
     "output_type": "execute_result"
    }
   ],
   "source": [
    "def get_max_duration(year=None, platform=None, duration_type=None):\n",
    "    df_duration = df_total_ratings.copy()\n",
    "    if year:\n",
    "        df_duration = df_duration[(df_duration['release_year'] == year) & (df_duration['type'] == 'movie')]\n",
    "    if platform:\n",
    "        df_duration = df_duration[(df_duration['platform'] == platform) & (df_duration['type'] == 'movie')]\n",
    "    if duration_type:\n",
    "        df_duration = df_duration[(df_duration['duration_type'] == duration_type) & (df_duration['type'] == 'movie')]\n",
    "\n",
    "    max_duration = df_duration['duration_type'].max()\n",
    "    movie_title = df_duration[df_duration['duration_type'] == max_duration]['title'].iloc[0]\n",
    "\n",
    "    return f'La producción más larga según tus especificaciones es: {movie_title}.'\n",
    "get_max_duration(platform='netflix')"
   ]
  },
  {
   "attachments": {},
   "cell_type": "markdown",
   "metadata": {},
   "source": [
    " 2. Cantidad de películas por plataforma con un puntaje mayor a XX en determinado año (la función debe llamarse get_score_count(platform, scored, year))\n",
    "\n"
   ]
  },
  {
   "cell_type": "code",
   "execution_count": 55,
   "metadata": {},
   "outputs": [
    {
     "data": {
      "text/plain": [
       "'La cantidad de películas en netflix con un puntaje mayor a 3.4 que se produjeron en 2011 son: 144.'"
      ]
     },
     "execution_count": 55,
     "metadata": {},
     "output_type": "execute_result"
    }
   ],
   "source": [
    "def get_score_count(platform: str, scored: float, year:int):\n",
    "    movies = df_total_ratings.copy()\n",
    "    filtered_movies = movies[(movies['platform'] == platform) & (movies['release_year'] == year) & (movies['score'] > scored) & (movies['type'] == 'movie')] \n",
    "\n",
    "    count = filtered_movies['title'].count()\n",
    "\n",
    "    return f'La cantidad de películas en {platform} con un puntaje mayor a {scored} que se produjeron en {year} son: {count}.'\n",
    "get_score_count('netflix', 3.4, 2011)"
   ]
  },
  {
   "attachments": {},
   "cell_type": "markdown",
   "metadata": {},
   "source": [
    "3. Cantidad de películas por plataforma con filtro de PLATAFORMA. (La función debe llamarse get_count_platform(platform))"
   ]
  },
  {
   "cell_type": "code",
   "execution_count": 56,
   "metadata": {},
   "outputs": [
    {
     "data": {
      "text/plain": [
       "'La cantidad de películas en la plataforma netflix son: 6131.'"
      ]
     },
     "execution_count": 56,
     "metadata": {},
     "output_type": "execute_result"
    }
   ],
   "source": [
    "def get_count_platform(platform):\n",
    "    count_platform = df_total_ratings.loc[(df_total_ratings[\"platform\"] == platform) & (df_total_ratings[\"type\"] == \"movie\"), \"type\"].value_counts()[\"movie\"]\n",
    "    \n",
    "    return f'La cantidad de películas en la plataforma {platform} son: {count_platform}.'\n",
    "get_count_platform('netflix')"
   ]
  },
  {
   "attachments": {},
   "cell_type": "markdown",
   "metadata": {},
   "source": [
    "4. Actor que más se repite según plataforma y año. (La función debe llamarse get_actor(platform, year))"
   ]
  },
  {
   "attachments": {},
   "cell_type": "markdown",
   "metadata": {},
   "source": [
    "- Para esta consulta se deben separar los actores de la columna 'cast'y crear un dataset con sus nombres."
   ]
  },
  {
   "cell_type": "code",
   "execution_count": 57,
   "metadata": {},
   "outputs": [
    {
     "data": {
      "text/html": [
       "<div>\n",
       "<style scoped>\n",
       "    .dataframe tbody tr th:only-of-type {\n",
       "        vertical-align: middle;\n",
       "    }\n",
       "\n",
       "    .dataframe tbody tr th {\n",
       "        vertical-align: top;\n",
       "    }\n",
       "\n",
       "    .dataframe thead th {\n",
       "        text-align: right;\n",
       "    }\n",
       "</style>\n",
       "<table border=\"1\" class=\"dataframe\">\n",
       "  <thead>\n",
       "    <tr style=\"text-align: right;\">\n",
       "      <th></th>\n",
       "      <th>0</th>\n",
       "    </tr>\n",
       "  </thead>\n",
       "  <tbody>\n",
       "    <tr>\n",
       "      <th>0</th>\n",
       "      <td>brendan gleeson</td>\n",
       "    </tr>\n",
       "    <tr>\n",
       "      <th>1</th>\n",
       "      <td>taylor kitsch</td>\n",
       "    </tr>\n",
       "  </tbody>\n",
       "</table>\n",
       "</div>"
      ],
      "text/plain": [
       "                 0\n",
       "0  brendan gleeson\n",
       "1    taylor kitsch"
      ]
     },
     "execution_count": 57,
     "metadata": {},
     "output_type": "execute_result"
    }
   ],
   "source": [
    "#Se convierten los actores en listas dentro del dataframe\n",
    "df_total_ratings['cast_'] = df_total_ratings['cast'].str.split(\",\" or \":\")\n",
    "df_total_ratings.drop(columns=['cast'],inplace=True)\n",
    "df_total_ratings.rename(columns={'cast_':'cast'},inplace=True)\n",
    "\n",
    "#creación de dataframe con todos los actores\n",
    "actors = []\n",
    "for cast in df_total_ratings['cast']:\n",
    "    for actor in cast:\n",
    "        actors.append(actor)\n",
    "\n",
    "df_actors = pd.DataFrame(actors)\n",
    "df_actors.head(2)"
   ]
  },
  {
   "attachments": {},
   "cell_type": "markdown",
   "metadata": {},
   "source": [
    "- Se agregan la columna 'year' por el año en el que aparece y 'platform' por la plataforma en la que aparece."
   ]
  },
  {
   "cell_type": "code",
   "execution_count": 58,
   "metadata": {},
   "outputs": [],
   "source": [
    "\n",
    "dic_actors = {'actor':[],\n",
    "                'year':[],\n",
    "                'platform':[]} \n",
    "for index, actors in enumerate(df_total_ratings['cast']):\n",
    "    for actor in actors:\n",
    "        dic_actors['actor'].append(actor)\n",
    "        dic_actors['year'].append(df_total_ratings['release_year'][index]) \n",
    "        dic_actors['platform'].append(df_total_ratings['platform'][index])  \n",
    "df_actors = pd.DataFrame(dic_actors)\n",
    "\n"
   ]
  },
  {
   "attachments": {},
   "cell_type": "markdown",
   "metadata": {},
   "source": [
    "- Se eliminan los espacios del principio o del final de todos los nombres en el dataset."
   ]
  },
  {
   "attachments": {},
   "cell_type": "markdown",
   "metadata": {},
   "source": [
    "- Se guarda el dataframe como CSV"
   ]
  },
  {
   "cell_type": "code",
   "execution_count": 59,
   "metadata": {},
   "outputs": [
    {
     "name": "stdout",
     "output_type": "stream",
     "text": [
      "<class 'pandas.core.frame.DataFrame'>\n",
      "RangeIndex: 119713 entries, 0 to 119712\n",
      "Data columns (total 3 columns):\n",
      " #   Column    Non-Null Count   Dtype \n",
      "---  ------    --------------   ----- \n",
      " 0   actor     119713 non-null  object\n",
      " 1   year      119713 non-null  int64 \n",
      " 2   platform  119713 non-null  object\n",
      "dtypes: int64(1), object(2)\n",
      "memory usage: 2.7+ MB\n"
     ]
    }
   ],
   "source": [
    "df_actors['actor'] = df_actors['actor'].str.strip()\n",
    "df_actors.to_csv('ETLcsvResults\\\\the_actors.csv')\n",
    "df_actors.info()"
   ]
  },
  {
   "attachments": {},
   "cell_type": "markdown",
   "metadata": {},
   "source": [
    "- Se define la función para obtener el actor que más se repite en cada plataforma dependiendo el año."
   ]
  },
  {
   "cell_type": "code",
   "execution_count": 60,
   "metadata": {},
   "outputs": [
    {
     "data": {
      "text/plain": [
       "'El actor que más se repite en netflix en el año 2010 es: zoe saldana, 3 veces.'"
      ]
     },
     "execution_count": 60,
     "metadata": {},
     "output_type": "execute_result"
    }
   ],
   "source": [
    "\n",
    "def get_actor(platform:str, year:int):\n",
    "    data = df_actors[(df_actors['year']==year)&(df_actors['platform']==platform)]['actor']\n",
    "    # return {data.value_counts().max()}\n",
    "    if data.value_counts().index[0] == 'sin dato':\n",
    "        actor = data.value_counts().index[1]\n",
    "        times = data.value_counts()[1]\n",
    "        return f'El actor que más se repite en {platform} en el año {year} es: {actor}, {times} veces.'\n",
    "    elif data.value_counts().index[0] != 'sin dato':\n",
    "        actor = data.value_counts().index[0]\n",
    "        times = data.value_counts()[0]\n",
    "        return f'El actor que más se repite {platform} en el año {year} es: {actor}, {times} veces.'\n",
    "get_actor('netflix', 2010)"
   ]
  }
 ],
 "metadata": {
  "kernelspec": {
   "display_name": "Python 3",
   "language": "python",
   "name": "python3"
  },
  "language_info": {
   "codemirror_mode": {
    "name": "ipython",
    "version": 3
   },
   "file_extension": ".py",
   "mimetype": "text/x-python",
   "name": "python",
   "nbconvert_exporter": "python",
   "pygments_lexer": "ipython3",
   "version": "3.10.4"
  },
  "orig_nbformat": 4
 },
 "nbformat": 4,
 "nbformat_minor": 2
}
